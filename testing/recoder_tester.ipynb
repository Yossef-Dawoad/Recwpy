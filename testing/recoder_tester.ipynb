{
 "metadata": {
  "language_info": {
   "codemirror_mode": {
    "name": "ipython",
    "version": 3
   },
   "file_extension": ".py",
   "mimetype": "text/x-python",
   "name": "python",
   "nbconvert_exporter": "python",
   "pygments_lexer": "ipython3",
   "version": "3.8.5-final"
  },
  "orig_nbformat": 2,
  "kernelspec": {
   "name": "python3",
   "display_name": "Python 3",
   "language": "python"
  }
 },
 "nbformat": 4,
 "nbformat_minor": 2,
 "cells": [
  {
   "cell_type": "code",
   "execution_count": 4,
   "metadata": {},
   "outputs": [],
   "source": [
    "import pyaudio\n",
    "# import struct\n",
    "import numpy as np\n",
    "import wave\n",
    "import matplotlib.pyplot as plt\n",
    "%matplotlib tk"
   ]
  },
  {
   "cell_type": "code",
   "execution_count": 14,
   "metadata": {},
   "outputs": [],
   "source": [
    "class Recorder:\n",
    "    def __init__(self,CHANNELS=1,nCHUNK=4,RATE = 44100):\n",
    "        self.CHUNK = 1024 * nCHUNK\n",
    "        self.FORMAT = pyaudio.paInt16\n",
    "        self.RATE = RATE\n",
    "        self.CHANNELS = CHANNELS\n",
    "        self.p = pyaudio.PyAudio()\n",
    "        self.stream = self.p.open(\n",
    "            format=self.FORMAT,\n",
    "            channels=self.CHANNELS,\n",
    "            rate=self.RATE,\n",
    "            input=True,\n",
    "            output=True,\n",
    "            frames_per_buffer=self.CHUNK)\n",
    "        self.analysis = AudioAnalysis(self.data)\n",
    "            \n",
    "    @property\n",
    "    def data(self,informitiveMode=False,dtype = np.int16): \n",
    "        '''record an return Live output as real time data'''\n",
    "        first_time = 1\n",
    "        if informitiveMode and first_time == 1:\n",
    "            first_time=0\n",
    "            print(\"Live recording ...\")\n",
    "            \n",
    "        #????? THE  AUCTUAL FUNCTION\n",
    "        byte_data = self.stream.read(self.CHUNK)\n",
    "        data = np.frombuffer(byte_data, dtype=np.int16)\n",
    "        if dtype == np.int16:return data\n",
    "        else: return data[::2] + 127\n",
    "\n",
    "\n",
    "        \n",
    "\n",
    "    def recordCHUNKS(self,secondLimit=2,dtype = np.int16):\n",
    "        '''return numpy concat array of --secondLimit-- raw data   {default:2 sec}'''\n",
    "        \n",
    "        FRAMES = [np.frombuffer(self.stream.read(self.CHUNK), dtype=dtype) for _ in range(0,int(self.RATE/self.CHUNK*secondLimit))]\n",
    "        FRAMES = np.concatenate(FRAMES,axis=0)\n",
    "        return FRAMES\n",
    "\n",
    "\n",
    "    def record_toFile(self,secondLimit=3,output_file=\"outputfile.wav\",informitiveMode=True,stop_stream=True):\n",
    "        '''record --secondLimit-- long to the --outputfile-- you provide as default it's outputfile.wav  '''\n",
    "\n",
    "        if informitiveMode: print(\"Start recording ...\")\n",
    "\n",
    "        #storing data to list \n",
    "        FRAMES = [self.stream.read(self.CHUNK) for _ in range(0,int(self.RATE/self.CHUNK*secondLimit))]\n",
    "        \n",
    "\n",
    "        #close every stream open\n",
    "        if stop_stream:\n",
    "            self.stream.stop_stream()\n",
    "            self.stream.close()\n",
    "            self.p.terminate()\n",
    "        if informitiveMode: print(\"Saving The recording ...\")\n",
    "\n",
    "        # svaing  the list to a file\n",
    "        wf = wave.open(output_file,'wb')\n",
    "        wf.setnchannels(self.CHANNELS)\n",
    "        wf.setsampwidth(self.p.get_sample_size(self.FORMAT))\n",
    "        wf.setframerate(self.RATE)\n",
    "        wf.writeframes(b''.join(FRAMES))\n",
    "        if informitiveMode: print(\"Complete\")\n",
    "\n",
    "\n",
    "\n",
    "    def LivePlot(self,ylim=2**15,figSize=(9,12)):\n",
    "\n",
    "        fig, ax = plt.subplots()\n",
    "\n",
    "        x = np.arange(0, 2*self.CHUNK, 2)\n",
    "        line, = ax.plot(x,np.random.rand(self.CHUNK))\n",
    "        ax.set_ylim(-ylim,ylim)\n",
    "        ax.set_xlim(0, self.CHUNK)\n",
    "        \n",
    "\n",
    "        #?? #process \n",
    "        while True:\n",
    "            Live_Mic = self.data\n",
    "            line.set_ydata(Live_Mic)\n",
    "            fig.canvas.draw()\n",
    "            fig.canvas.flush_events()\n",
    "from scipy.fftpack import fft\n",
    "class AudioAnalysis:\n",
    "    def __init__(self,data):\n",
    "        self.data = data\n",
    "    \n",
    "    def getfft(self):\n",
    "        return fft(self.data)"
   ]
  },
  {
   "cell_type": "code",
   "execution_count": 15,
   "metadata": {},
   "outputs": [
    {
     "output_type": "execute_result",
     "data": {
      "text/plain": [
       "array([  77,   69,   46, ..., -129, -125, -104], dtype=int16)"
      ]
     },
     "metadata": {},
     "execution_count": 15
    }
   ],
   "source": [
    "mic = Recorder()\n",
    "mic.data"
   ]
  },
  {
   "cell_type": "code",
   "execution_count": 16,
   "metadata": {},
   "outputs": [
    {
     "output_type": "error",
     "ename": "TclError",
     "evalue": "invalid command name \"pyimage20\"",
     "traceback": [
      "\u001b[1;31m---------------------------------------------------------------------------\u001b[0m",
      "\u001b[1;31mTclError\u001b[0m                                  Traceback (most recent call last)",
      "\u001b[1;32m<ipython-input-16-ac6864aa72dc>\u001b[0m in \u001b[0;36m<module>\u001b[1;34m\u001b[0m\n\u001b[1;32m----> 1\u001b[1;33m \u001b[0mmic\u001b[0m\u001b[1;33m.\u001b[0m\u001b[0mLivePlot\u001b[0m\u001b[1;33m(\u001b[0m\u001b[1;33m)\u001b[0m\u001b[1;33m\u001b[0m\u001b[1;33m\u001b[0m\u001b[0m\n\u001b[0m",
      "\u001b[1;32m<ipython-input-14-d2abf657a27d>\u001b[0m in \u001b[0;36mLivePlot\u001b[1;34m(self, ylim, figSize)\u001b[0m\n\u001b[0;32m     80\u001b[0m             \u001b[0mLive_Mic\u001b[0m \u001b[1;33m=\u001b[0m \u001b[0mself\u001b[0m\u001b[1;33m.\u001b[0m\u001b[0mdata\u001b[0m\u001b[1;33m\u001b[0m\u001b[1;33m\u001b[0m\u001b[0m\n\u001b[0;32m     81\u001b[0m             \u001b[0mline\u001b[0m\u001b[1;33m.\u001b[0m\u001b[0mset_ydata\u001b[0m\u001b[1;33m(\u001b[0m\u001b[0mLive_Mic\u001b[0m\u001b[1;33m)\u001b[0m\u001b[1;33m\u001b[0m\u001b[1;33m\u001b[0m\u001b[0m\n\u001b[1;32m---> 82\u001b[1;33m             \u001b[0mfig\u001b[0m\u001b[1;33m.\u001b[0m\u001b[0mcanvas\u001b[0m\u001b[1;33m.\u001b[0m\u001b[0mdraw\u001b[0m\u001b[1;33m(\u001b[0m\u001b[1;33m)\u001b[0m\u001b[1;33m\u001b[0m\u001b[1;33m\u001b[0m\u001b[0m\n\u001b[0m\u001b[0;32m     83\u001b[0m             \u001b[0mfig\u001b[0m\u001b[1;33m.\u001b[0m\u001b[0mcanvas\u001b[0m\u001b[1;33m.\u001b[0m\u001b[0mflush_events\u001b[0m\u001b[1;33m(\u001b[0m\u001b[1;33m)\u001b[0m\u001b[1;33m\u001b[0m\u001b[1;33m\u001b[0m\u001b[0m\n\u001b[0;32m     84\u001b[0m \u001b[1;32mfrom\u001b[0m \u001b[0mscipy\u001b[0m\u001b[1;33m.\u001b[0m\u001b[0mfftpack\u001b[0m \u001b[1;32mimport\u001b[0m \u001b[0mfft\u001b[0m\u001b[1;33m\u001b[0m\u001b[1;33m\u001b[0m\u001b[0m\n",
      "\u001b[1;32m~\\anaconda3\\lib\\site-packages\\matplotlib\\backends\\backend_tkagg.py\u001b[0m in \u001b[0;36mdraw\u001b[1;34m(self)\u001b[0m\n\u001b[0;32m      8\u001b[0m     \u001b[1;32mdef\u001b[0m \u001b[0mdraw\u001b[0m\u001b[1;33m(\u001b[0m\u001b[0mself\u001b[0m\u001b[1;33m)\u001b[0m\u001b[1;33m:\u001b[0m\u001b[1;33m\u001b[0m\u001b[1;33m\u001b[0m\u001b[0m\n\u001b[0;32m      9\u001b[0m         \u001b[0msuper\u001b[0m\u001b[1;33m(\u001b[0m\u001b[0mFigureCanvasTkAgg\u001b[0m\u001b[1;33m,\u001b[0m \u001b[0mself\u001b[0m\u001b[1;33m)\u001b[0m\u001b[1;33m.\u001b[0m\u001b[0mdraw\u001b[0m\u001b[1;33m(\u001b[0m\u001b[1;33m)\u001b[0m\u001b[1;33m\u001b[0m\u001b[1;33m\u001b[0m\u001b[0m\n\u001b[1;32m---> 10\u001b[1;33m         \u001b[0m_backend_tk\u001b[0m\u001b[1;33m.\u001b[0m\u001b[0mblit\u001b[0m\u001b[1;33m(\u001b[0m\u001b[0mself\u001b[0m\u001b[1;33m.\u001b[0m\u001b[0m_tkphoto\u001b[0m\u001b[1;33m,\u001b[0m \u001b[0mself\u001b[0m\u001b[1;33m.\u001b[0m\u001b[0mrenderer\u001b[0m\u001b[1;33m.\u001b[0m\u001b[0m_renderer\u001b[0m\u001b[1;33m,\u001b[0m \u001b[1;33m(\u001b[0m\u001b[1;36m0\u001b[0m\u001b[1;33m,\u001b[0m \u001b[1;36m1\u001b[0m\u001b[1;33m,\u001b[0m \u001b[1;36m2\u001b[0m\u001b[1;33m,\u001b[0m \u001b[1;36m3\u001b[0m\u001b[1;33m)\u001b[0m\u001b[1;33m)\u001b[0m\u001b[1;33m\u001b[0m\u001b[1;33m\u001b[0m\u001b[0m\n\u001b[0m\u001b[0;32m     11\u001b[0m         \u001b[0mself\u001b[0m\u001b[1;33m.\u001b[0m\u001b[0m_master\u001b[0m\u001b[1;33m.\u001b[0m\u001b[0mupdate_idletasks\u001b[0m\u001b[1;33m(\u001b[0m\u001b[1;33m)\u001b[0m\u001b[1;33m\u001b[0m\u001b[1;33m\u001b[0m\u001b[0m\n\u001b[0;32m     12\u001b[0m \u001b[1;33m\u001b[0m\u001b[0m\n",
      "\u001b[1;32m~\\anaconda3\\lib\\site-packages\\matplotlib\\backends\\_backend_tk.py\u001b[0m in \u001b[0;36mblit\u001b[1;34m(photoimage, aggimage, offsets, bbox)\u001b[0m\n\u001b[0;32m     73\u001b[0m         \u001b[0mbboxptr\u001b[0m \u001b[1;33m=\u001b[0m \u001b[1;33m(\u001b[0m\u001b[0mx1\u001b[0m\u001b[1;33m,\u001b[0m \u001b[0mx2\u001b[0m\u001b[1;33m,\u001b[0m \u001b[0my1\u001b[0m\u001b[1;33m,\u001b[0m \u001b[0my2\u001b[0m\u001b[1;33m)\u001b[0m\u001b[1;33m\u001b[0m\u001b[1;33m\u001b[0m\u001b[0m\n\u001b[0;32m     74\u001b[0m     \u001b[1;32melse\u001b[0m\u001b[1;33m:\u001b[0m\u001b[1;33m\u001b[0m\u001b[1;33m\u001b[0m\u001b[0m\n\u001b[1;32m---> 75\u001b[1;33m         \u001b[0mphotoimage\u001b[0m\u001b[1;33m.\u001b[0m\u001b[0mblank\u001b[0m\u001b[1;33m(\u001b[0m\u001b[1;33m)\u001b[0m\u001b[1;33m\u001b[0m\u001b[1;33m\u001b[0m\u001b[0m\n\u001b[0m\u001b[0;32m     76\u001b[0m         \u001b[0mbboxptr\u001b[0m \u001b[1;33m=\u001b[0m \u001b[1;33m(\u001b[0m\u001b[1;36m0\u001b[0m\u001b[1;33m,\u001b[0m \u001b[0mwidth\u001b[0m\u001b[1;33m,\u001b[0m \u001b[1;36m0\u001b[0m\u001b[1;33m,\u001b[0m \u001b[0mheight\u001b[0m\u001b[1;33m)\u001b[0m\u001b[1;33m\u001b[0m\u001b[1;33m\u001b[0m\u001b[0m\n\u001b[0;32m     77\u001b[0m     _tkagg.blit(\n",
      "\u001b[1;32m~\\anaconda3\\lib\\tkinter\\__init__.py\u001b[0m in \u001b[0;36mblank\u001b[1;34m(self)\u001b[0m\n\u001b[0;32m   4063\u001b[0m     \u001b[1;32mdef\u001b[0m \u001b[0mblank\u001b[0m\u001b[1;33m(\u001b[0m\u001b[0mself\u001b[0m\u001b[1;33m)\u001b[0m\u001b[1;33m:\u001b[0m\u001b[1;33m\u001b[0m\u001b[1;33m\u001b[0m\u001b[0m\n\u001b[0;32m   4064\u001b[0m         \u001b[1;34m\"\"\"Display a transparent image.\"\"\"\u001b[0m\u001b[1;33m\u001b[0m\u001b[1;33m\u001b[0m\u001b[0m\n\u001b[1;32m-> 4065\u001b[1;33m         \u001b[0mself\u001b[0m\u001b[1;33m.\u001b[0m\u001b[0mtk\u001b[0m\u001b[1;33m.\u001b[0m\u001b[0mcall\u001b[0m\u001b[1;33m(\u001b[0m\u001b[0mself\u001b[0m\u001b[1;33m.\u001b[0m\u001b[0mname\u001b[0m\u001b[1;33m,\u001b[0m \u001b[1;34m'blank'\u001b[0m\u001b[1;33m)\u001b[0m\u001b[1;33m\u001b[0m\u001b[1;33m\u001b[0m\u001b[0m\n\u001b[0m\u001b[0;32m   4066\u001b[0m \u001b[1;33m\u001b[0m\u001b[0m\n\u001b[0;32m   4067\u001b[0m     \u001b[1;32mdef\u001b[0m \u001b[0mcget\u001b[0m\u001b[1;33m(\u001b[0m\u001b[0mself\u001b[0m\u001b[1;33m,\u001b[0m \u001b[0moption\u001b[0m\u001b[1;33m)\u001b[0m\u001b[1;33m:\u001b[0m\u001b[1;33m\u001b[0m\u001b[1;33m\u001b[0m\u001b[0m\n",
      "\u001b[1;31mTclError\u001b[0m: invalid command name \"pyimage20\""
     ]
    }
   ],
   "source": [
    "mic.LivePlot()"
   ]
  },
  {
   "cell_type": "code",
   "execution_count": 18,
   "metadata": {},
   "outputs": [],
   "source": [
    "\n",
    "fig, ax =plt.subplots()\n",
    "ax.plot(mic.data,'-')\n",
    "plt.show()"
   ]
  },
  {
   "cell_type": "code",
   "execution_count": 19,
   "metadata": {},
   "outputs": [
    {
     "output_type": "execute_result",
     "data": {
      "text/plain": [
       "4096"
      ]
     },
     "metadata": {},
     "execution_count": 19
    }
   ],
   "source": [
    "mic.CHUNK"
   ]
  },
  {
   "cell_type": "code",
   "execution_count": 19,
   "metadata": {},
   "outputs": [],
   "source": [
    "\n"
   ]
  },
  {
   "cell_type": "code",
   "execution_count": 20,
   "metadata": {},
   "outputs": [
    {
     "output_type": "execute_result",
     "data": {
      "text/plain": [
       "array([[0., 0., 0.]])"
      ]
     },
     "metadata": {},
     "execution_count": 20
    }
   ],
   "source": [
    "np.zeros((1, 3))"
   ]
  },
  {
   "cell_type": "code",
   "execution_count": 21,
   "metadata": {},
   "outputs": [
    {
     "output_type": "execute_result",
     "data": {
      "text/plain": [
       "numpy.float16"
      ]
     },
     "metadata": {},
     "execution_count": 21
    }
   ],
   "source": [
    "np.float16"
   ]
  },
  {
   "cell_type": "code",
   "execution_count": null,
   "metadata": {},
   "outputs": [],
   "source": []
  },
  {
   "cell_type": "code",
   "execution_count": null,
   "metadata": {},
   "outputs": [],
   "source": []
  }
 ]
}